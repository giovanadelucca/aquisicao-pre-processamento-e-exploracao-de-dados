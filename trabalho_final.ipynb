{
  "nbformat": 4,
  "nbformat_minor": 0,
  "metadata": {
    "colab": {
      "name": "trabalho-final.ipynb",
      "provenance": [],
      "mount_file_id": "1M-axOU0o7l8vYIECaAq-Z3VxyBV9OBza",
      "authorship_tag": "ABX9TyMwhQcRuFt5FlfceI/7wdKH",
      "include_colab_link": true
    },
    "kernelspec": {
      "name": "python3",
      "display_name": "Python 3"
    }
  },
  "cells": [
    {
      "cell_type": "markdown",
      "metadata": {
        "id": "view-in-github",
        "colab_type": "text"
      },
      "source": [
        "<a href=\"https://colab.research.google.com/github/giovanadelucca/aquisicao-pre-processamento-e-exploracao-de-dados/blob/main/trabalho_final.ipynb\" target=\"_parent\"><img src=\"https://colab.research.google.com/assets/colab-badge.svg\" alt=\"Open In Colab\"/></a>"
      ]
    },
    {
      "cell_type": "markdown",
      "metadata": {
        "id": "G3-wUPNqcYZi"
      },
      "source": [
        "### **Configurações iniciais e leitura do conjunto de dados**"
      ]
    },
    {
      "cell_type": "markdown",
      "metadata": {
        "id": "ulUBg8s3ebCg"
      },
      "source": [
        "**Importação de bibliotecas**"
      ]
    },
    {
      "cell_type": "code",
      "metadata": {
        "id": "TQTParXaeQQC"
      },
      "source": [
        "import pandas as pd"
      ],
      "execution_count": 23,
      "outputs": []
    },
    {
      "cell_type": "markdown",
      "metadata": {
        "id": "wh4Na0cJcdM0"
      },
      "source": [
        "**Leitura do conjunto de dados de gasolina e etanol**\r\n",
        "\r\n",
        "[Link da fonte dos dados](https://dados.gov.br/dataset/serie-historica-de-precos-de-combustiveis-por-revenda)"
      ]
    },
    {
      "cell_type": "code",
      "metadata": {
        "colab": {
          "base_uri": "https://localhost:8080/"
        },
        "id": "pF9zhRjUd27C",
        "outputId": "dc088616-491a-4be9-a50a-a41646d76c8a"
      },
      "source": [
        "from google.colab import drive\r\n",
        "drive.mount('/content/drive')"
      ],
      "execution_count": 24,
      "outputs": [
        {
          "output_type": "stream",
          "text": [
            "Drive already mounted at /content/drive; to attempt to forcibly remount, call drive.mount(\"/content/drive\", force_remount=True).\n"
          ],
          "name": "stdout"
        }
      ]
    },
    {
      "cell_type": "code",
      "metadata": {
        "colab": {
          "base_uri": "https://localhost:8080/",
          "height": 140
        },
        "id": "JGj9Erg4LLqc",
        "outputId": "76615ba5-90cb-4707-ff1c-380f92c374b3"
      },
      "source": [
        "drive_path = '/content/drive/MyDrive/Datasets/'\r\n",
        "\r\n",
        "df = pd.read_csv(drive_path + 'dataset-completo-2018-2020.csv')\r\n",
        "df.head(2)"
      ],
      "execution_count": 25,
      "outputs": [
        {
          "output_type": "execute_result",
          "data": {
            "text/html": [
              "<div>\n",
              "<style scoped>\n",
              "    .dataframe tbody tr th:only-of-type {\n",
              "        vertical-align: middle;\n",
              "    }\n",
              "\n",
              "    .dataframe tbody tr th {\n",
              "        vertical-align: top;\n",
              "    }\n",
              "\n",
              "    .dataframe thead th {\n",
              "        text-align: right;\n",
              "    }\n",
              "</style>\n",
              "<table border=\"1\" class=\"dataframe\">\n",
              "  <thead>\n",
              "    <tr style=\"text-align: right;\">\n",
              "      <th></th>\n",
              "      <th>Região - Sigla</th>\n",
              "      <th>Estado - Sigla</th>\n",
              "      <th>Município</th>\n",
              "      <th>Revenda</th>\n",
              "      <th>Produto</th>\n",
              "      <th>Data da Coleta</th>\n",
              "      <th>Valor de Venda</th>\n",
              "      <th>Valor de Compra</th>\n",
              "      <th>Unidade de Medida</th>\n",
              "      <th>Bandeira</th>\n",
              "      <th>Instalação - Código</th>\n",
              "      <th>CNPJ da Revenda</th>\n",
              "    </tr>\n",
              "  </thead>\n",
              "  <tbody>\n",
              "    <tr>\n",
              "      <th>0</th>\n",
              "      <td>CO</td>\n",
              "      <td>DF</td>\n",
              "      <td>BRASILIA</td>\n",
              "      <td>BRASAL COMBUSTIVEIS LTDA</td>\n",
              "      <td>ETANOL</td>\n",
              "      <td>2018-07-03</td>\n",
              "      <td>3.399</td>\n",
              "      <td>NaN</td>\n",
              "      <td>R$ / litro</td>\n",
              "      <td>RAIZEN</td>\n",
              "      <td>NaN</td>\n",
              "      <td>NaN</td>\n",
              "    </tr>\n",
              "    <tr>\n",
              "      <th>1</th>\n",
              "      <td>CO</td>\n",
              "      <td>DF</td>\n",
              "      <td>BRASILIA</td>\n",
              "      <td>GEOPETROS GEOVANI PETROLEOS E DERIVADOS LTDA</td>\n",
              "      <td>ETANOL</td>\n",
              "      <td>2018-07-03</td>\n",
              "      <td>3.489</td>\n",
              "      <td>3.017</td>\n",
              "      <td>R$ / litro</td>\n",
              "      <td>PETROBRAS DISTRIBUIDORA S.A.</td>\n",
              "      <td>NaN</td>\n",
              "      <td>NaN</td>\n",
              "    </tr>\n",
              "  </tbody>\n",
              "</table>\n",
              "</div>"
            ],
            "text/plain": [
              "  Região - Sigla Estado - Sigla  ... Instalação - Código CNPJ da Revenda\n",
              "0             CO             DF  ...                 NaN             NaN\n",
              "1             CO             DF  ...                 NaN             NaN\n",
              "\n",
              "[2 rows x 12 columns]"
            ]
          },
          "metadata": {
            "tags": []
          },
          "execution_count": 25
        }
      ]
    },
    {
      "cell_type": "markdown",
      "metadata": {
        "id": "BaucF39YgOlS"
      },
      "source": [
        "### **Aplicação de tratamento de dados simples**"
      ]
    },
    {
      "cell_type": "markdown",
      "metadata": {
        "id": "tYfHj5Raep0x"
      },
      "source": [
        "**Renomeação de colunas**"
      ]
    },
    {
      "cell_type": "code",
      "metadata": {
        "colab": {
          "base_uri": "https://localhost:8080/",
          "height": 157
        },
        "id": "Jz2GLbNncXlB",
        "outputId": "83ecc5f0-aca9-40a0-a60e-31398f423c2f"
      },
      "source": [
        "df.columns = ['regiao_sigla', 'estado_sigla', 'municipio', 'revenda', 'produto', \r\n",
        "              'data_coleta', 'valor_venda', 'valor_compra', 'unidade_medida', 'bandeira', 'instalacao_codigo', 'cnpj_revenda']\r\n",
        "\r\n",
        "df.head(2)"
      ],
      "execution_count": 26,
      "outputs": [
        {
          "output_type": "execute_result",
          "data": {
            "text/html": [
              "<div>\n",
              "<style scoped>\n",
              "    .dataframe tbody tr th:only-of-type {\n",
              "        vertical-align: middle;\n",
              "    }\n",
              "\n",
              "    .dataframe tbody tr th {\n",
              "        vertical-align: top;\n",
              "    }\n",
              "\n",
              "    .dataframe thead th {\n",
              "        text-align: right;\n",
              "    }\n",
              "</style>\n",
              "<table border=\"1\" class=\"dataframe\">\n",
              "  <thead>\n",
              "    <tr style=\"text-align: right;\">\n",
              "      <th></th>\n",
              "      <th>regiao_sigla</th>\n",
              "      <th>estado_sigla</th>\n",
              "      <th>municipio</th>\n",
              "      <th>revenda</th>\n",
              "      <th>produto</th>\n",
              "      <th>data_coleta</th>\n",
              "      <th>valor_venda</th>\n",
              "      <th>valor_compra</th>\n",
              "      <th>unidade_medida</th>\n",
              "      <th>bandeira</th>\n",
              "      <th>instalacao_codigo</th>\n",
              "      <th>cnpj_revenda</th>\n",
              "    </tr>\n",
              "  </thead>\n",
              "  <tbody>\n",
              "    <tr>\n",
              "      <th>0</th>\n",
              "      <td>CO</td>\n",
              "      <td>DF</td>\n",
              "      <td>BRASILIA</td>\n",
              "      <td>BRASAL COMBUSTIVEIS LTDA</td>\n",
              "      <td>ETANOL</td>\n",
              "      <td>2018-07-03</td>\n",
              "      <td>3.399</td>\n",
              "      <td>NaN</td>\n",
              "      <td>R$ / litro</td>\n",
              "      <td>RAIZEN</td>\n",
              "      <td>NaN</td>\n",
              "      <td>NaN</td>\n",
              "    </tr>\n",
              "    <tr>\n",
              "      <th>1</th>\n",
              "      <td>CO</td>\n",
              "      <td>DF</td>\n",
              "      <td>BRASILIA</td>\n",
              "      <td>GEOPETROS GEOVANI PETROLEOS E DERIVADOS LTDA</td>\n",
              "      <td>ETANOL</td>\n",
              "      <td>2018-07-03</td>\n",
              "      <td>3.489</td>\n",
              "      <td>3.017</td>\n",
              "      <td>R$ / litro</td>\n",
              "      <td>PETROBRAS DISTRIBUIDORA S.A.</td>\n",
              "      <td>NaN</td>\n",
              "      <td>NaN</td>\n",
              "    </tr>\n",
              "  </tbody>\n",
              "</table>\n",
              "</div>"
            ],
            "text/plain": [
              "  regiao_sigla estado_sigla  ... instalacao_codigo cnpj_revenda\n",
              "0           CO           DF  ...               NaN          NaN\n",
              "1           CO           DF  ...               NaN          NaN\n",
              "\n",
              "[2 rows x 12 columns]"
            ]
          },
          "metadata": {
            "tags": []
          },
          "execution_count": 26
        }
      ]
    },
    {
      "cell_type": "markdown",
      "metadata": {
        "id": "m0hkZmABe9E-"
      },
      "source": [
        "**Verificação de dados faltantes**"
      ]
    },
    {
      "cell_type": "code",
      "metadata": {
        "colab": {
          "base_uri": "https://localhost:8080/"
        },
        "id": "9hzE8PolfAQU",
        "outputId": "84c610b6-7d02-41e7-8c96-0ef7d9b71339"
      },
      "source": [
        "df.info()"
      ],
      "execution_count": 27,
      "outputs": [
        {
          "output_type": "stream",
          "text": [
            "<class 'pandas.core.frame.DataFrame'>\n",
            "RangeIndex: 1174501 entries, 0 to 1174500\n",
            "Data columns (total 12 columns):\n",
            " #   Column             Non-Null Count    Dtype  \n",
            "---  ------             --------------    -----  \n",
            " 0   regiao_sigla       1174501 non-null  object \n",
            " 1   estado_sigla       1174501 non-null  object \n",
            " 2   municipio          1174501 non-null  object \n",
            " 3   revenda            1174501 non-null  object \n",
            " 4   produto            1174501 non-null  object \n",
            " 5   data_coleta        1174501 non-null  object \n",
            " 6   valor_venda        1174501 non-null  float64\n",
            " 7   valor_compra       428690 non-null   float64\n",
            " 8   unidade_medida     1174501 non-null  object \n",
            " 9   bandeira           1174501 non-null  object \n",
            " 10  instalacao_codigo  230329 non-null   float64\n",
            " 11  cnpj_revenda       695746 non-null   float64\n",
            "dtypes: float64(4), object(8)\n",
            "memory usage: 107.5+ MB\n"
          ],
          "name": "stdout"
        }
      ]
    },
    {
      "cell_type": "markdown",
      "metadata": {
        "id": "EGvb4CmofEpB"
      },
      "source": [
        "É possível verificar que as colunas **valor_compra**, **intalacao_codigo** e **cnpj_revenda** possuem dados faltantes. Entretanto, nenhuma dessas colunas acrescenta relevância ao tipo de análise que se pretende implementar. Portanto, essas colunas podem ser removidas."
      ]
    },
    {
      "cell_type": "markdown",
      "metadata": {
        "id": "a8XkoOd5e_vF"
      },
      "source": [
        "**Remoção de colunas**"
      ]
    },
    {
      "cell_type": "code",
      "metadata": {
        "colab": {
          "base_uri": "https://localhost:8080/",
          "height": 106
        },
        "id": "WmJsLCaEffea",
        "outputId": "62d58b2e-8e12-44dd-dedc-82bb4b887594"
      },
      "source": [
        "df.drop(['valor_compra', 'instalacao_codigo', 'cnpj_revenda'], axis=1, inplace=True)\r\n",
        "df.head(2)"
      ],
      "execution_count": 28,
      "outputs": [
        {
          "output_type": "execute_result",
          "data": {
            "text/html": [
              "<div>\n",
              "<style scoped>\n",
              "    .dataframe tbody tr th:only-of-type {\n",
              "        vertical-align: middle;\n",
              "    }\n",
              "\n",
              "    .dataframe tbody tr th {\n",
              "        vertical-align: top;\n",
              "    }\n",
              "\n",
              "    .dataframe thead th {\n",
              "        text-align: right;\n",
              "    }\n",
              "</style>\n",
              "<table border=\"1\" class=\"dataframe\">\n",
              "  <thead>\n",
              "    <tr style=\"text-align: right;\">\n",
              "      <th></th>\n",
              "      <th>regiao_sigla</th>\n",
              "      <th>estado_sigla</th>\n",
              "      <th>municipio</th>\n",
              "      <th>revenda</th>\n",
              "      <th>produto</th>\n",
              "      <th>data_coleta</th>\n",
              "      <th>valor_venda</th>\n",
              "      <th>unidade_medida</th>\n",
              "      <th>bandeira</th>\n",
              "    </tr>\n",
              "  </thead>\n",
              "  <tbody>\n",
              "    <tr>\n",
              "      <th>0</th>\n",
              "      <td>CO</td>\n",
              "      <td>DF</td>\n",
              "      <td>BRASILIA</td>\n",
              "      <td>BRASAL COMBUSTIVEIS LTDA</td>\n",
              "      <td>ETANOL</td>\n",
              "      <td>2018-07-03</td>\n",
              "      <td>3.399</td>\n",
              "      <td>R$ / litro</td>\n",
              "      <td>RAIZEN</td>\n",
              "    </tr>\n",
              "    <tr>\n",
              "      <th>1</th>\n",
              "      <td>CO</td>\n",
              "      <td>DF</td>\n",
              "      <td>BRASILIA</td>\n",
              "      <td>GEOPETROS GEOVANI PETROLEOS E DERIVADOS LTDA</td>\n",
              "      <td>ETANOL</td>\n",
              "      <td>2018-07-03</td>\n",
              "      <td>3.489</td>\n",
              "      <td>R$ / litro</td>\n",
              "      <td>PETROBRAS DISTRIBUIDORA S.A.</td>\n",
              "    </tr>\n",
              "  </tbody>\n",
              "</table>\n",
              "</div>"
            ],
            "text/plain": [
              "  regiao_sigla estado_sigla  ... unidade_medida                      bandeira\n",
              "0           CO           DF  ...     R$ / litro                        RAIZEN\n",
              "1           CO           DF  ...     R$ / litro  PETROBRAS DISTRIBUIDORA S.A.\n",
              "\n",
              "[2 rows x 9 columns]"
            ]
          },
          "metadata": {
            "tags": []
          },
          "execution_count": 28
        }
      ]
    },
    {
      "cell_type": "markdown",
      "metadata": {
        "id": "AK9fjJDIixxN"
      },
      "source": [
        "**Mapeamento e renomeação da coluna regiao_sigla**"
      ]
    },
    {
      "cell_type": "code",
      "metadata": {
        "colab": {
          "base_uri": "https://localhost:8080/"
        },
        "id": "LUSrGt0EkM3p",
        "outputId": "f8c862b6-8170-424c-a178-9de0a6d5ad2e"
      },
      "source": [
        "df['regiao_sigla'].value_counts()"
      ],
      "execution_count": 29,
      "outputs": [
        {
          "output_type": "execute_result",
          "data": {
            "text/plain": [
              "SE    589644\n",
              "NE    231758\n",
              "S     181805\n",
              "CO    111283\n",
              "N      60011\n",
              "Name: regiao_sigla, dtype: int64"
            ]
          },
          "metadata": {
            "tags": []
          },
          "execution_count": 29
        }
      ]
    },
    {
      "cell_type": "markdown",
      "metadata": {
        "id": "FlDAn8eIkZ1t"
      },
      "source": [
        "Com a contagem de dados realizada na célula anterior, é possível observar que n\r\n",
        "a coluna **regiao_sigla** de fato só contém dados referentes às 5 regiões do Brasil. Assim sendo, para facilitar a interpretação e visualização dos dados, pode-se fazer um mapeamento por meio de dicionário e transformar as siglas nos próprios nomes das regiões."
      ]
    },
    {
      "cell_type": "code",
      "metadata": {
        "colab": {
          "base_uri": "https://localhost:8080/",
          "height": 106
        },
        "id": "nACPLmVchvwW",
        "outputId": "8257affb-65ca-4245-c032-a69c79dc7b0a"
      },
      "source": [
        "df['regiao_sigla'] = df['regiao_sigla'].map({\r\n",
        "    'N': 'NORTE',\r\n",
        "    'NE': 'NORDESTE',\r\n",
        "    'CO': 'CENTRO_OESTE',\r\n",
        "    'SE': 'SUDENTES',\r\n",
        "    'S': 'SUL'\r\n",
        "})\r\n",
        "\r\n",
        "df.rename(columns={'regiao_sigla':'regiao'}, inplace=True)\r\n",
        "\r\n",
        "df.head(2)"
      ],
      "execution_count": 30,
      "outputs": [
        {
          "output_type": "execute_result",
          "data": {
            "text/html": [
              "<div>\n",
              "<style scoped>\n",
              "    .dataframe tbody tr th:only-of-type {\n",
              "        vertical-align: middle;\n",
              "    }\n",
              "\n",
              "    .dataframe tbody tr th {\n",
              "        vertical-align: top;\n",
              "    }\n",
              "\n",
              "    .dataframe thead th {\n",
              "        text-align: right;\n",
              "    }\n",
              "</style>\n",
              "<table border=\"1\" class=\"dataframe\">\n",
              "  <thead>\n",
              "    <tr style=\"text-align: right;\">\n",
              "      <th></th>\n",
              "      <th>regiao</th>\n",
              "      <th>estado_sigla</th>\n",
              "      <th>municipio</th>\n",
              "      <th>revenda</th>\n",
              "      <th>produto</th>\n",
              "      <th>data_coleta</th>\n",
              "      <th>valor_venda</th>\n",
              "      <th>unidade_medida</th>\n",
              "      <th>bandeira</th>\n",
              "    </tr>\n",
              "  </thead>\n",
              "  <tbody>\n",
              "    <tr>\n",
              "      <th>0</th>\n",
              "      <td>CENTRO_OESTE</td>\n",
              "      <td>DF</td>\n",
              "      <td>BRASILIA</td>\n",
              "      <td>BRASAL COMBUSTIVEIS LTDA</td>\n",
              "      <td>ETANOL</td>\n",
              "      <td>2018-07-03</td>\n",
              "      <td>3.399</td>\n",
              "      <td>R$ / litro</td>\n",
              "      <td>RAIZEN</td>\n",
              "    </tr>\n",
              "    <tr>\n",
              "      <th>1</th>\n",
              "      <td>CENTRO_OESTE</td>\n",
              "      <td>DF</td>\n",
              "      <td>BRASILIA</td>\n",
              "      <td>GEOPETROS GEOVANI PETROLEOS E DERIVADOS LTDA</td>\n",
              "      <td>ETANOL</td>\n",
              "      <td>2018-07-03</td>\n",
              "      <td>3.489</td>\n",
              "      <td>R$ / litro</td>\n",
              "      <td>PETROBRAS DISTRIBUIDORA S.A.</td>\n",
              "    </tr>\n",
              "  </tbody>\n",
              "</table>\n",
              "</div>"
            ],
            "text/plain": [
              "         regiao estado_sigla  ... unidade_medida                      bandeira\n",
              "0  CENTRO_OESTE           DF  ...     R$ / litro                        RAIZEN\n",
              "1  CENTRO_OESTE           DF  ...     R$ / litro  PETROBRAS DISTRIBUIDORA S.A.\n",
              "\n",
              "[2 rows x 9 columns]"
            ]
          },
          "metadata": {
            "tags": []
          },
          "execution_count": 30
        }
      ]
    },
    {
      "cell_type": "markdown",
      "metadata": {
        "id": "swlrjDTQjHIX"
      },
      "source": [
        "**Tratamento da coluna unidade_medida**"
      ]
    },
    {
      "cell_type": "code",
      "metadata": {
        "colab": {
          "base_uri": "https://localhost:8080/"
        },
        "id": "8KAmEG0qlZyp",
        "outputId": "71979dbb-ebac-4e2d-ceec-fe067fb0e4fa"
      },
      "source": [
        "df['unidade_medida'].value_counts()"
      ],
      "execution_count": 34,
      "outputs": [
        {
          "output_type": "execute_result",
          "data": {
            "text/plain": [
              "REAIS_LITRO    1174501\n",
              "Name: unidade_medida, dtype: int64"
            ]
          },
          "metadata": {
            "tags": []
          },
          "execution_count": 34
        }
      ]
    },
    {
      "cell_type": "markdown",
      "metadata": {
        "id": "VzwE1cdUlZDX"
      },
      "source": [
        "Com a contagem de dados realizada na célula anterior, é possível observar que a coluna **unidade_medida** de fato só contém dados que informam que todos os valores de venda de gasolina e etanol do conjunto de dados é sempre da unidade reais por litro. Para facilitar a interpretação e visualização dos dados, pode-se substituir a representação desta informação vinda da fonte dos dados por uma mais simples, sem caracteres especiais, sem espaços e com letras maiúsculas."
      ]
    },
    {
      "cell_type": "code",
      "metadata": {
        "colab": {
          "base_uri": "https://localhost:8080/",
          "height": 106
        },
        "id": "SEPL-zmKiVr4",
        "outputId": "cb481693-3820-44c2-eaa9-cd4883555ae0"
      },
      "source": [
        "df['unidade_medida'] = df['unidade_medida'].map({'R$ / litro': 'REAIS_LITRO'})\r\n",
        "\r\n",
        "df.head(2)"
      ],
      "execution_count": 31,
      "outputs": [
        {
          "output_type": "execute_result",
          "data": {
            "text/html": [
              "<div>\n",
              "<style scoped>\n",
              "    .dataframe tbody tr th:only-of-type {\n",
              "        vertical-align: middle;\n",
              "    }\n",
              "\n",
              "    .dataframe tbody tr th {\n",
              "        vertical-align: top;\n",
              "    }\n",
              "\n",
              "    .dataframe thead th {\n",
              "        text-align: right;\n",
              "    }\n",
              "</style>\n",
              "<table border=\"1\" class=\"dataframe\">\n",
              "  <thead>\n",
              "    <tr style=\"text-align: right;\">\n",
              "      <th></th>\n",
              "      <th>regiao</th>\n",
              "      <th>estado_sigla</th>\n",
              "      <th>municipio</th>\n",
              "      <th>revenda</th>\n",
              "      <th>produto</th>\n",
              "      <th>data_coleta</th>\n",
              "      <th>valor_venda</th>\n",
              "      <th>unidade_medida</th>\n",
              "      <th>bandeira</th>\n",
              "    </tr>\n",
              "  </thead>\n",
              "  <tbody>\n",
              "    <tr>\n",
              "      <th>0</th>\n",
              "      <td>CENTRO_OESTE</td>\n",
              "      <td>DF</td>\n",
              "      <td>BRASILIA</td>\n",
              "      <td>BRASAL COMBUSTIVEIS LTDA</td>\n",
              "      <td>ETANOL</td>\n",
              "      <td>2018-07-03</td>\n",
              "      <td>3.399</td>\n",
              "      <td>REAIS_LITRO</td>\n",
              "      <td>RAIZEN</td>\n",
              "    </tr>\n",
              "    <tr>\n",
              "      <th>1</th>\n",
              "      <td>CENTRO_OESTE</td>\n",
              "      <td>DF</td>\n",
              "      <td>BRASILIA</td>\n",
              "      <td>GEOPETROS GEOVANI PETROLEOS E DERIVADOS LTDA</td>\n",
              "      <td>ETANOL</td>\n",
              "      <td>2018-07-03</td>\n",
              "      <td>3.489</td>\n",
              "      <td>REAIS_LITRO</td>\n",
              "      <td>PETROBRAS DISTRIBUIDORA S.A.</td>\n",
              "    </tr>\n",
              "  </tbody>\n",
              "</table>\n",
              "</div>"
            ],
            "text/plain": [
              "         regiao estado_sigla  ... unidade_medida                      bandeira\n",
              "0  CENTRO_OESTE           DF  ...    REAIS_LITRO                        RAIZEN\n",
              "1  CENTRO_OESTE           DF  ...    REAIS_LITRO  PETROBRAS DISTRIBUIDORA S.A.\n",
              "\n",
              "[2 rows x 9 columns]"
            ]
          },
          "metadata": {
            "tags": []
          },
          "execution_count": 31
        }
      ]
    },
    {
      "cell_type": "markdown",
      "metadata": {
        "id": "M80okKo8jQjs"
      },
      "source": [
        "**Alteração de tipo da coluna data_coleta para datetime**"
      ]
    },
    {
      "cell_type": "code",
      "metadata": {
        "colab": {
          "base_uri": "https://localhost:8080/",
          "height": 106
        },
        "id": "UBDIrlcXjXbG",
        "outputId": "90a36394-5c7a-4ca0-94fb-4df562f41b5e"
      },
      "source": [
        "df['data_coleta'] = pd.to_datetime(df['data_coleta'])\r\n",
        "df.head(2)"
      ],
      "execution_count": 32,
      "outputs": [
        {
          "output_type": "execute_result",
          "data": {
            "text/html": [
              "<div>\n",
              "<style scoped>\n",
              "    .dataframe tbody tr th:only-of-type {\n",
              "        vertical-align: middle;\n",
              "    }\n",
              "\n",
              "    .dataframe tbody tr th {\n",
              "        vertical-align: top;\n",
              "    }\n",
              "\n",
              "    .dataframe thead th {\n",
              "        text-align: right;\n",
              "    }\n",
              "</style>\n",
              "<table border=\"1\" class=\"dataframe\">\n",
              "  <thead>\n",
              "    <tr style=\"text-align: right;\">\n",
              "      <th></th>\n",
              "      <th>regiao</th>\n",
              "      <th>estado_sigla</th>\n",
              "      <th>municipio</th>\n",
              "      <th>revenda</th>\n",
              "      <th>produto</th>\n",
              "      <th>data_coleta</th>\n",
              "      <th>valor_venda</th>\n",
              "      <th>unidade_medida</th>\n",
              "      <th>bandeira</th>\n",
              "    </tr>\n",
              "  </thead>\n",
              "  <tbody>\n",
              "    <tr>\n",
              "      <th>0</th>\n",
              "      <td>CENTRO_OESTE</td>\n",
              "      <td>DF</td>\n",
              "      <td>BRASILIA</td>\n",
              "      <td>BRASAL COMBUSTIVEIS LTDA</td>\n",
              "      <td>ETANOL</td>\n",
              "      <td>2018-07-03</td>\n",
              "      <td>3.399</td>\n",
              "      <td>REAIS_LITRO</td>\n",
              "      <td>RAIZEN</td>\n",
              "    </tr>\n",
              "    <tr>\n",
              "      <th>1</th>\n",
              "      <td>CENTRO_OESTE</td>\n",
              "      <td>DF</td>\n",
              "      <td>BRASILIA</td>\n",
              "      <td>GEOPETROS GEOVANI PETROLEOS E DERIVADOS LTDA</td>\n",
              "      <td>ETANOL</td>\n",
              "      <td>2018-07-03</td>\n",
              "      <td>3.489</td>\n",
              "      <td>REAIS_LITRO</td>\n",
              "      <td>PETROBRAS DISTRIBUIDORA S.A.</td>\n",
              "    </tr>\n",
              "  </tbody>\n",
              "</table>\n",
              "</div>"
            ],
            "text/plain": [
              "         regiao estado_sigla  ... unidade_medida                      bandeira\n",
              "0  CENTRO_OESTE           DF  ...    REAIS_LITRO                        RAIZEN\n",
              "1  CENTRO_OESTE           DF  ...    REAIS_LITRO  PETROBRAS DISTRIBUIDORA S.A.\n",
              "\n",
              "[2 rows x 9 columns]"
            ]
          },
          "metadata": {
            "tags": []
          },
          "execution_count": 32
        }
      ]
    },
    {
      "cell_type": "markdown",
      "metadata": {
        "id": "v1bqynpsmaUs"
      },
      "source": [
        "**Separação do conjunto de dados em relação ao produto**"
      ]
    },
    {
      "cell_type": "code",
      "metadata": {
        "colab": {
          "base_uri": "https://localhost:8080/"
        },
        "id": "vhCkAgDUnq_w",
        "outputId": "7d23492a-92cc-46b5-9f1a-6dd186520e30"
      },
      "source": [
        "df['produto'].value_counts()"
      ],
      "execution_count": 35,
      "outputs": [
        {
          "output_type": "execute_result",
          "data": {
            "text/plain": [
              "GASOLINA    622327\n",
              "ETANOL      552174\n",
              "Name: produto, dtype: int64"
            ]
          },
          "metadata": {
            "tags": []
          },
          "execution_count": 35
        }
      ]
    },
    {
      "cell_type": "code",
      "metadata": {
        "id": "OuZmk0RrndOK"
      },
      "source": [
        "df_etanol = df[df['produto'] == 'ETANOL']\r\n",
        "df_gasolina = df[df['produto'] == 'GASOLINA']"
      ],
      "execution_count": 44,
      "outputs": []
    },
    {
      "cell_type": "code",
      "metadata": {
        "colab": {
          "base_uri": "https://localhost:8080/",
          "height": 106
        },
        "id": "AimvBKl2nyl2",
        "outputId": "b656c809-479a-4acc-b916-c49bdacd39f0"
      },
      "source": [
        "df_etanol.head(2)"
      ],
      "execution_count": 38,
      "outputs": [
        {
          "output_type": "execute_result",
          "data": {
            "text/html": [
              "<div>\n",
              "<style scoped>\n",
              "    .dataframe tbody tr th:only-of-type {\n",
              "        vertical-align: middle;\n",
              "    }\n",
              "\n",
              "    .dataframe tbody tr th {\n",
              "        vertical-align: top;\n",
              "    }\n",
              "\n",
              "    .dataframe thead th {\n",
              "        text-align: right;\n",
              "    }\n",
              "</style>\n",
              "<table border=\"1\" class=\"dataframe\">\n",
              "  <thead>\n",
              "    <tr style=\"text-align: right;\">\n",
              "      <th></th>\n",
              "      <th>regiao</th>\n",
              "      <th>estado_sigla</th>\n",
              "      <th>municipio</th>\n",
              "      <th>revenda</th>\n",
              "      <th>produto</th>\n",
              "      <th>data_coleta</th>\n",
              "      <th>valor_venda</th>\n",
              "      <th>unidade_medida</th>\n",
              "      <th>bandeira</th>\n",
              "    </tr>\n",
              "  </thead>\n",
              "  <tbody>\n",
              "    <tr>\n",
              "      <th>0</th>\n",
              "      <td>CENTRO_OESTE</td>\n",
              "      <td>DF</td>\n",
              "      <td>BRASILIA</td>\n",
              "      <td>BRASAL COMBUSTIVEIS LTDA</td>\n",
              "      <td>ETANOL</td>\n",
              "      <td>2018-07-03</td>\n",
              "      <td>3.399</td>\n",
              "      <td>REAIS_LITRO</td>\n",
              "      <td>RAIZEN</td>\n",
              "    </tr>\n",
              "    <tr>\n",
              "      <th>1</th>\n",
              "      <td>CENTRO_OESTE</td>\n",
              "      <td>DF</td>\n",
              "      <td>BRASILIA</td>\n",
              "      <td>GEOPETROS GEOVANI PETROLEOS E DERIVADOS LTDA</td>\n",
              "      <td>ETANOL</td>\n",
              "      <td>2018-07-03</td>\n",
              "      <td>3.489</td>\n",
              "      <td>REAIS_LITRO</td>\n",
              "      <td>PETROBRAS DISTRIBUIDORA S.A.</td>\n",
              "    </tr>\n",
              "  </tbody>\n",
              "</table>\n",
              "</div>"
            ],
            "text/plain": [
              "         regiao estado_sigla  ... unidade_medida                      bandeira\n",
              "0  CENTRO_OESTE           DF  ...    REAIS_LITRO                        RAIZEN\n",
              "1  CENTRO_OESTE           DF  ...    REAIS_LITRO  PETROBRAS DISTRIBUIDORA S.A.\n",
              "\n",
              "[2 rows x 9 columns]"
            ]
          },
          "metadata": {
            "tags": []
          },
          "execution_count": 38
        }
      ]
    },
    {
      "cell_type": "code",
      "metadata": {
        "colab": {
          "base_uri": "https://localhost:8080/",
          "height": 123
        },
        "id": "1ON1x4qWn109",
        "outputId": "bb8611a7-bad1-489e-96a9-3f5ceba623ad"
      },
      "source": [
        "df_gasolina.head(2)"
      ],
      "execution_count": 46,
      "outputs": [
        {
          "output_type": "execute_result",
          "data": {
            "text/html": [
              "<div>\n",
              "<style scoped>\n",
              "    .dataframe tbody tr th:only-of-type {\n",
              "        vertical-align: middle;\n",
              "    }\n",
              "\n",
              "    .dataframe tbody tr th {\n",
              "        vertical-align: top;\n",
              "    }\n",
              "\n",
              "    .dataframe thead th {\n",
              "        text-align: right;\n",
              "    }\n",
              "</style>\n",
              "<table border=\"1\" class=\"dataframe\">\n",
              "  <thead>\n",
              "    <tr style=\"text-align: right;\">\n",
              "      <th></th>\n",
              "      <th>regiao</th>\n",
              "      <th>estado_sigla</th>\n",
              "      <th>municipio</th>\n",
              "      <th>revenda</th>\n",
              "      <th>produto</th>\n",
              "      <th>data_coleta</th>\n",
              "      <th>valor_venda</th>\n",
              "      <th>unidade_medida</th>\n",
              "      <th>bandeira</th>\n",
              "    </tr>\n",
              "  </thead>\n",
              "  <tbody>\n",
              "    <tr>\n",
              "      <th>22282</th>\n",
              "      <td>CENTRO_OESTE</td>\n",
              "      <td>DF</td>\n",
              "      <td>BRASILIA</td>\n",
              "      <td>BRASAL COMBUSTIVEIS LTDA</td>\n",
              "      <td>GASOLINA</td>\n",
              "      <td>2018-07-03</td>\n",
              "      <td>4.399</td>\n",
              "      <td>REAIS_LITRO</td>\n",
              "      <td>RAIZEN</td>\n",
              "    </tr>\n",
              "    <tr>\n",
              "      <th>22283</th>\n",
              "      <td>CENTRO_OESTE</td>\n",
              "      <td>DF</td>\n",
              "      <td>BRASILIA</td>\n",
              "      <td>GEOPETROS GEOVANI PETROLEOS E DERIVADOS LTDA</td>\n",
              "      <td>GASOLINA</td>\n",
              "      <td>2018-07-03</td>\n",
              "      <td>4.499</td>\n",
              "      <td>REAIS_LITRO</td>\n",
              "      <td>PETROBRAS DISTRIBUIDORA S.A.</td>\n",
              "    </tr>\n",
              "  </tbody>\n",
              "</table>\n",
              "</div>"
            ],
            "text/plain": [
              "             regiao estado_sigla  ... unidade_medida                      bandeira\n",
              "22282  CENTRO_OESTE           DF  ...    REAIS_LITRO                        RAIZEN\n",
              "22283  CENTRO_OESTE           DF  ...    REAIS_LITRO  PETROBRAS DISTRIBUIDORA S.A.\n",
              "\n",
              "[2 rows x 9 columns]"
            ]
          },
          "metadata": {
            "tags": []
          },
          "execution_count": 46
        }
      ]
    },
    {
      "cell_type": "code",
      "metadata": {
        "colab": {
          "base_uri": "https://localhost:8080/"
        },
        "id": "e_rONeJroxCD",
        "outputId": "cd725736-87c1-422a-e47a-3277d7d59fec"
      },
      "source": [
        "if len(df_etanol) + len(df_gasolina) == len(df): print('A soma das quantidades de exemplos dos conjuntos de dados de etanol e gasolina é igual à quantidade total de exemplos.')"
      ],
      "execution_count": 48,
      "outputs": [
        {
          "output_type": "stream",
          "text": [
            "A soma das quantidades de exemplos dos conjuntos de dados de etanol e gasolina é igual à quantidade total de exemplos.\n"
          ],
          "name": "stdout"
        }
      ]
    }
  ]
}